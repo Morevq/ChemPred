{
  "nbformat": 4,
  "nbformat_minor": 0,
  "metadata": {
    "colab": {
      "provenance": []
    },
    "kernelspec": {
      "name": "python3",
      "display_name": "Python 3"
    },
    "language_info": {
      "name": "python"
    }
  },
  "cells": [
    {
      "cell_type": "code",
      "execution_count": null,
      "metadata": {
        "id": "EkM4yKJmLwc8"
      },
      "outputs": [],
      "source": [
        "import pandas as pd\n",
        "import numpy as np\n",
        "import matplotlib.pyplot as plt\n",
        "import seaborn as sns"
      ]
    },
    {
      "cell_type": "code",
      "source": [
        "!pip install rdkit"
      ],
      "metadata": {
        "colab": {
          "base_uri": "https://localhost:8080/"
        },
        "id": "ofFiyFCxM299",
        "outputId": "d63fdf25-29d6-43d3-9d4b-9ce8b8972607"
      },
      "execution_count": null,
      "outputs": [
        {
          "output_type": "stream",
          "name": "stdout",
          "text": [
            "Collecting rdkit\n",
            "  Downloading rdkit-2023.3.3-cp310-cp310-manylinux_2_17_x86_64.manylinux2014_x86_64.whl (29.7 MB)\n",
            "\u001b[2K     \u001b[90m━━━━━━━━━━━━━━━━━━━━━━━━━━━━━━━━━━━━━━━━\u001b[0m \u001b[32m29.7/29.7 MB\u001b[0m \u001b[31m41.8 MB/s\u001b[0m eta \u001b[36m0:00:00\u001b[0m\n",
            "\u001b[?25hRequirement already satisfied: numpy in /usr/local/lib/python3.10/dist-packages (from rdkit) (1.23.5)\n",
            "Requirement already satisfied: Pillow in /usr/local/lib/python3.10/dist-packages (from rdkit) (9.4.0)\n",
            "Installing collected packages: rdkit\n",
            "Successfully installed rdkit-2023.3.3\n"
          ]
        }
      ]
    },
    {
      "cell_type": "code",
      "source": [
        "from rdkit import Chem, DataStructs\n",
        "from rdkit.Chem import PandasTools, AllChem\n",
        "from sklearn.preprocessing import StandardScaler\n",
        "from sklearn.model_selection import train_test_split\n",
        "import torch\n",
        "import torch.nn as nn\n",
        "from torch.utils.data import Dataset\n",
        "from torch.optim.lr_scheduler import ReduceLROnPlateau"
      ],
      "metadata": {
        "id": "24OyRo7jMnSY"
      },
      "execution_count": null,
      "outputs": []
    },
    {
      "cell_type": "code",
      "source": [
        "file_name = \"test.xls\""
      ],
      "metadata": {
        "id": "1cTTto7sNtKu"
      },
      "execution_count": null,
      "outputs": []
    },
    {
      "cell_type": "code",
      "source": [
        "df = pd.read_escel(f\"./{file_name}\")\n",
        "df.head()"
      ],
      "metadata": {
        "id": "CEXeV3gfNcfq"
      },
      "execution_count": null,
      "outputs": []
    },
    {
      "cell_type": "code",
      "source": [
        "#realize df describe to analyse data"
      ],
      "metadata": {
        "id": "TrtmBKhlN6dU"
      },
      "execution_count": null,
      "outputs": []
    },
    {
      "cell_type": "code",
      "source": [
        "PandasTools.AddMoleculeColumnToFrame(\"DATAFRAME INSTEAD OF STRING\", \"SMILES\", \"Molecule\")"
      ],
      "metadata": {
        "id": "KQirEG_cN-Xo"
      },
      "execution_count": null,
      "outputs": []
    },
    {
      "cell_type": "code",
      "source": [
        "!python -m pip install git+https://github.com/EBjerrum/molvecgen\n"
      ],
      "metadata": {
        "colab": {
          "base_uri": "https://localhost:8080/"
        },
        "id": "05ZXESTSOW1-",
        "outputId": "afdca9ea-f380-418d-ce75-6a6bf44c91d5"
      },
      "execution_count": null,
      "outputs": [
        {
          "output_type": "stream",
          "name": "stdout",
          "text": [
            "Collecting git+https://github.com/EBjerrum/molvecgen\n",
            "  Cloning https://github.com/EBjerrum/molvecgen to /tmp/pip-req-build-923jsg1r\n",
            "  Running command git clone --filter=blob:none --quiet https://github.com/EBjerrum/molvecgen /tmp/pip-req-build-923jsg1r\n",
            "  Resolved https://github.com/EBjerrum/molvecgen to commit f81d5aade18bea60882f5845877f6283366bbe91\n",
            "  Preparing metadata (setup.py) ... \u001b[?25l\u001b[?25hdone\n",
            "Requirement already satisfied: numpy in /usr/local/lib/python3.10/dist-packages (from molvecgen==0.1) (1.23.5)\n",
            "Building wheels for collected packages: molvecgen\n",
            "  Building wheel for molvecgen (setup.py) ... \u001b[?25l\u001b[?25hdone\n",
            "  Created wheel for molvecgen: filename=molvecgen-0.1-py3-none-any.whl size=11357 sha256=bc46d6fd6d41156855c0e20e5791c0d9612ee4e3accbda8f3169742c7e74949f\n",
            "  Stored in directory: /tmp/pip-ephem-wheel-cache-3uea1zym/wheels/1c/de/14/fd9892b48271e63e56b00c7015c754ae6189e258fa313a7c63\n",
            "Successfully built molvecgen\n",
            "Installing collected packages: molvecgen\n",
            "Successfully installed molvecgen-0.1\n"
          ]
        }
      ]
    },
    {
      "cell_type": "code",
      "source": [
        "from molvecgen.vectorizers import SmilesVectorizer"
      ],
      "metadata": {
        "id": "m9xU9kxbOlrr"
      },
      "execution_count": null,
      "outputs": []
    },
    {
      "cell_type": "code",
      "source": [
        "smivec = SmilesVectorizer(pad=1, leftpad=True, canonical=False, augment=True)\n",
        "smivec.fit(df.Molecule.values)"
      ],
      "metadata": {
        "id": "ZusrmUTJO0AY"
      },
      "execution_count": null,
      "outputs": []
    },
    {
      "cell_type": "code",
      "source": [
        "y = df[target]\n",
        "X = df.Molecule.values\n",
        "X_train, X_test, y_train, y_test = train_test_split(X, y, test_size = 0.2)\n",
        "X_train, X_val, y_train, y_val = train_test_split(X, y, test_size = 0.2)\n",
        "scaler = StandardScaler()\n",
        "y_train = scaler.fit_transform(y_train)\n",
        "y_test = scaler.transform(y_test)\n",
        "y_val = scaler.transform(y_val)"
      ],
      "metadata": {
        "id": "D6flY8HlRcuY"
      },
      "execution_count": null,
      "outputs": []
    },
    {
      "cell_type": "code",
      "source": [
        "class SMILESMolDataset(Dataset):\n",
        "  def __init__(self, molecules, y, vectorizer):\n",
        "    self.molecules = molecules\n",
        "    self.y = y\n",
        "    self.vectorizer = vectorizer\n",
        "  def __len__(self):\n",
        "    return len(self.molecules)\n",
        "  def __getitem__(self, idx):\n",
        "    if torch.is_tensor(idx):\n",
        "      idx = idx.tolist()\n",
        "    mols = self.molecules[idx]\n",
        "\n",
        "    sample = self.vectorizer.transform([mols])[0]\n",
        "    label = self.y[idx]\n",
        "    return sample, label"
      ],
      "metadata": {
        "id": "ArA3BkoZPIIh"
      },
      "execution_count": null,
      "outputs": []
    },
    {
      "cell_type": "code",
      "source": [
        "train_dataset = SMILESMolDataset(X_train, y_train, smivec)"
      ],
      "metadata": {
        "id": "LY4d5QLWRRpF"
      },
      "execution_count": null,
      "outputs": []
    },
    {
      "cell_type": "code",
      "source": [
        "device = torch.device(\"cuda:0\")"
      ],
      "metadata": {
        "colab": {
          "base_uri": "https://localhost:8080/"
        },
        "id": "SNydhS1bRgBW",
        "outputId": "b97d6afb-fcd8-44ff-d1a6-c0a61dcf2ac3"
      },
      "execution_count": null,
      "outputs": [
        {
          "output_type": "stream",
          "name": "stdout",
          "text": [
            "cuda:0\n"
          ]
        }
      ]
    },
    {
      "cell_type": "code",
      "source": [
        "X_val_t = smivec.transform(X_val, canonical=False)\n",
        "X_val_t = torch.tensor(X_val_t, device=device).float()\n",
        "y_val_t = torch.tensor(y_val, device=device).float()\n",
        "y_val_t = torch.nan_to_num(y_val_t, nan=torch.nanmean(y_val_t))"
      ],
      "metadata": {
        "id": "fWqDM1cXRoCj"
      },
      "execution_count": null,
      "outputs": []
    },
    {
      "cell_type": "code",
      "source": [
        "class NeuralNetworkMol(nn.Module):\n",
        "  def __init__(self, dims, lstm_size, hidden_size, dropout_rate, out_size) -> None:\n",
        "    super(NeuralNetworkMol, self).__init__()\n",
        "\n",
        "    length = dims[0]\n",
        "    number_tokens = dims[1]\n",
        "\n",
        "    self.lstm = nn.GRU(input_size = number_tokens, hidden_size=lstm_size, num_layers=1, batch_first=True, bidirectional=False, dropout=0.2)\n",
        "    #model\n",
        "\n",
        "  def forward(self, x):\n",
        "    # forward for netwrok"
      ],
      "metadata": {
        "id": "Cbcbr4_lSgTf"
      },
      "execution_count": null,
      "outputs": []
    }
  ]
}